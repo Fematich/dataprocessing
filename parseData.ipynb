{
 "metadata": {
  "name": "parseData"
 },
 "nbformat": 3,
 "nbformat_minor": 0,
 "worksheets": [
  {
   "cells": [
    {
     "cell_type": "code",
     "collapsed": false,
     "input": [
      "import os,re\n",
      "datadir='/home/mfeys/work/muc34/TASK/CORPORA/dev'"
     ],
     "language": "python",
     "metadata": {},
     "outputs": [],
     "prompt_number": 1
    },
    {
     "cell_type": "code",
     "collapsed": false,
     "input": [
      "docline=re.compile('DEV-MUC(?P<ed>\\d)-(?P<val>\\d+)')"
     ],
     "language": "python",
     "metadata": {},
     "outputs": [],
     "prompt_number": 2
    },
    {
     "cell_type": "code",
     "collapsed": false,
     "input": [
      "with open(os.path.join(datadir,'dev-muc3-0001-0100')) as fd:\n",
      "    first=True\n",
      "    msg=''\n",
      "    descr={}\n",
      "    docno=0\n",
      "    try:\n",
      "        for line in fd:\n",
      "            matchline=re.search(docline, line)\n",
      "            if matchline == None :\n",
      "                # process msg\n",
      "                msg=msg+line.replace('/n','')\n",
      "            else:\n",
      "                #process msg identifier\n",
      "                if not first:\n",
      "                    lastdoc=matchdoc\n",
      "                    matchdoc=[match.group('ed'),match.group('val')]\n",
      "                    if matchdoc != None :\n",
      "                        print (lastdoc,descr,msg)\n",
      "                        #yield (lastdoc,descr,msg)\n",
      "                        docno+=1\n",
      "                        msg=''\n",
      "                        descr={}\n",
      "                else:\n",
      "                    lastdoc=[match.group('ed'),match.group('val')]\n",
      "                    matchdoc=lastdoc\n",
      "                    first=False\n",
      "                            \n",
      "        #yield (lastdoc,descr,msg)\n",
      "        print (lastdoc,descr,msg)\n",
      "        docno+=1\n",
      "        buffer=[]\n"
     ],
     "language": "python",
     "metadata": {},
     "outputs": [
      {
       "ename": "IndentationError",
       "evalue": "unexpected unindent (<ipython-input-3-d47118c10707>, line 31)",
       "output_type": "pyerr",
       "traceback": [
        "\u001b[1;31mIndentationError\u001b[0m\u001b[1;31m:\u001b[0m unexpected unindent\n"
       ]
      }
     ],
     "prompt_number": 3
    },
    {
     "cell_type": "code",
     "collapsed": false,
     "input": [
      "for file in filelist:\n",
      "            logger.info('start analysing day: '+file)\n",
      "            fd = open(os.path.join(self.input,file),'rb')\n",
      "            buffer=[]\n",
      "            first=True\n",
      "            try:\n",
      "                for line in fd:\n",
      "                    matchline=re.search(self.docline, line)\n",
      "                    if matchline != None :\n",
      "                        buffer.append(matchline.group('term'))\n",
      "                    else:\n",
      "                        if not first:\n",
      "                            lastdoc=matchdoc\n",
      "                            matchdoc=re.search(self.docbegin, line)\n",
      "                            if matchdoc != None :\n",
      "                                #print('doc '+lastdoc.group('articlenumber'))\n",
      "                                yield (buffer, (docno, lastdoc.group('datum'),  int(lastdoc.group('articlenumber'))))\n",
      "                                docno+=1\n",
      "                                buffer=[]\n",
      "                        else:\n",
      "                            lastdoc=re.search(self.docbegin, line)\n",
      "                            matchdoc=lastdoc\n",
      "                            first=False\n",
      "                            \n",
      "                yield (buffer, (docno, matchdoc.group('datum'),  int(matchdoc.group('articlenumber'))))\n",
      "                docno+=1\n",
      "                buffer=[]\n",
      "            finally:\n",
      "                fd.close()"
     ],
     "language": "python",
     "metadata": {},
     "outputs": []
    }
   ],
   "metadata": {}
  }
 ]
}